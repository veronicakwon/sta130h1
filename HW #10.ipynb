{
 "cells": [
  {
   "cell_type": "markdown",
   "id": "cac22af5",
   "metadata": {},
   "source": [
    "## Question 4."
   ]
  },
  {
   "cell_type": "markdown",
   "id": "33b7adc4",
   "metadata": {},
   "source": [
    " Chat summary: https://chatgpt.com/share/67366f82-9cac-8004-b3e0-ae46556ff6e7"
   ]
  },
  {
   "cell_type": "markdown",
   "id": "0f194d61",
   "metadata": {},
   "source": [
    "The ideas of R-squared and hypothesis testing based on p-values to seek evidence for the null hypothesis are distinct and do not contradict each other. The null hypothesis for linear regression models is usually that there is absolutely no relationship between two variables (meaning a constant relationship). A p-value thus gives evidence as to whether there is strictly no relationship or not. On the other hand, R-squared measures how well a particular model fits for a dataset. For a more detailed explanation, they show how well the model explains variance of the outcome variables based on the predictor variables. Two variables that do have a relationship (thus, its p-value being low enough to reject the null hypothesis) can have a very low r-squared value--the relationship doesn't have to be perfect, as long as it exists, it's sufficient to reject the null hypothesis. Thus, the two don't contradict each other, they actually complement each other and help us understand what our model reflects and what components we should adjust to improve it."
   ]
  },
  {
   "cell_type": "markdown",
   "id": "daa86167",
   "metadata": {},
   "source": [
    "## Question 7."
   ]
  },
  {
   "cell_type": "markdown",
   "id": "8595d199",
   "metadata": {},
   "source": [
    " Chat summary: https://chatgpt.com/share/6736670d-fb24-8004-927c-5c37d488da1c"
   ]
  },
  {
   "cell_type": "markdown",
   "id": "4e884cfa",
   "metadata": {},
   "source": [
    "To begin, extending in this context means adding more features (like predictor variables) to the R style formula, which is like a parameter structure for the fitted line model. Developing means reusing features from a previous model for a new model to make improvements and taking the variables that are actually crucial, and seeing if predictor variables have correlations between EACH OTHER. The whole purpose of the two is to refine and improve a model.\n",
    "\n",
    "For model5_linear_form, we are taking the variables from model3_fit and model4_fit that we believe are good predictors for HP(such as attack, defense...) whether they are numerical or categorical. Then, we see what the fitted line looks like. \n",
    "\n",
    "For model6_linear_form, we are refining it based on what we had for model5_linear_form. For example, we are removing variables that we believe aren't very helpful to predict HP, and thus are making the model more simple. It also adds new predictors that we initially thought weren't that useful and simultaneously transforming them (for example, changing categorical variables into indicator variables; true == 1, false == 0). \n",
    "\n",
    "For model7_linear_form, we are integrating interaction terms. This essentially keeps the variables that will change the outcome variable based on OTHER variables (i.e., higher speed and higher attack will output more HP than high attack and lower speed). It combines these variables and takes these different effects to account, making the refined model more complex but in a neccessary, efficient way. \n",
    "\n",
    "In conclusion, the point of this process of developing/extending in this context is to make the refined model reflect generalizability while preserving crucial, complex relationships. "
   ]
  },
  {
   "cell_type": "markdown",
   "id": "b2e848e8",
   "metadata": {},
   "source": [
    "## Question 9."
   ]
  },
  {
   "cell_type": "markdown",
   "id": "9e5f68fe",
   "metadata": {},
   "source": [
    " Chat summary: https://chatgpt.com/share/67366dd4-808c-8004-bc6c-628c5fd4736d"
   ]
  },
  {
   "cell_type": "markdown",
   "id": "fbb10927",
   "metadata": {},
   "source": [
    "The purpose of the code provided is to show that while model7_linear_form is more complex as it takes interaction terms to account, this may not actually be a good thing in application. For example, it may not actually reflect generalizability and thus cannot be applied to models that are NOT based on the variables that we previously saw in the model (this is called out of sample data points). On the other hand, model6_linear_form is simpler yet reflects generalizability more and thus may be applied to other data points. The code does this by testing the R-squared value for both models for in sample datasets and out of sample data sets. \n",
    "\n",
    "R-squared reflects how well your model explains the variance in data by using the PREDICTOR variables rather than making random guesses. Essentially the higher the R-squared, the better the model may be.\n",
    "\n",
    "This connects to model7_linear_form and model6_linear_form because since model7_linear_form has more interaction terms that might not actually refine the model by much, it may have a similar R-squared value to model6_linear_form. This implies that maybe we should keep model6_linear_form to make our model more simple and reflect generalizability. "
   ]
  }
 ],
 "metadata": {
  "kernelspec": {
   "display_name": "Python 3 (ipykernel)",
   "language": "python",
   "name": "python3"
  },
  "language_info": {
   "codemirror_mode": {
    "name": "ipython",
    "version": 3
   },
   "file_extension": ".py",
   "mimetype": "text/x-python",
   "name": "python",
   "nbconvert_exporter": "python",
   "pygments_lexer": "ipython3",
   "version": "3.11.6"
  }
 },
 "nbformat": 4,
 "nbformat_minor": 5
}
